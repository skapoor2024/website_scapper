{
 "cells": [
  {
   "cell_type": "code",
   "execution_count": 1,
   "id": "3a7ddb50",
   "metadata": {},
   "outputs": [
    {
     "name": "stderr",
     "output_type": "stream",
     "text": [
      "C:\\Users\\Admin\\AppData\\Local\\Temp/ipykernel_12904/1604662684.py:25: DeprecationWarning: find_element_by_* commands are deprecated. Please use find_element() instead\n",
      "  ele_3 = driver.find_element_by_xpath('//section[2]/article/div/div/div/form/div/button')\n",
      "C:\\Users\\Admin\\AppData\\Local\\Temp/ipykernel_12904/1604662684.py:30: DeprecationWarning: find_element_by_* commands are deprecated. Please use find_element() instead\n",
      "  ele_5 = driver.find_element_by_class_name('load__more')\n"
     ]
    }
   ],
   "source": [
    "from selenium import webdriver\n",
    "from selenium.webdriver.common.keys import Keys\n",
    "from selenium.webdriver.common.by import By\n",
    "from selenium.webdriver.support.ui import WebDriverWait\n",
    "from selenium.webdriver.support import expected_conditions as EC\n",
    "from selenium.common.exceptions import ElementClickInterceptedException\n",
    "import time\n",
    "import random\n",
    "import csv\n",
    "from urllib.request import urlopen\n",
    "from bs4 import BeautifulSoup as BS\n",
    "import random\n",
    "import re\n",
    "\n",
    "\n",
    "driver = webdriver.Chrome()\n",
    "\n",
    "from selenium.webdriver.common.alert import Alert\n",
    "\n",
    "handles = driver.window_handles\n",
    "driver.get('https://www.fossanalytics.com/')\n",
    "#ele = driver.find_element_by_id('accept-cookie')\n",
    "ele = WebDriverWait(driver,1000).until(EC.presence_of_element_located((By.ID,'accept-cookie')))\n",
    "ele.click()\n",
    "ele_3 = driver.find_element_by_xpath('//section[2]/article/div/div/div/form/div/button')\n",
    "ele_3.click()\n",
    "parent_handle = driver.current_window_handle\n",
    "while((WebDriverWait(driver,1000)).until(EC.presence_of_element_located((By.CLASS_NAME,'load__more'))).get_attribute('style')!='display: none;'):\n",
    "    try: \n",
    "        ele_5 = driver.find_element_by_class_name('load__more')\n",
    "        ele_5.click()\n",
    "        time.sleep(40)\n",
    "    except ElementClickInterceptedException:\n",
    "        ele_5 = driver.find_element_by_class_name('espace-overlay')\n",
    "        ele_5.click()\n",
    "        for x in range(len(handles)):\n",
    "            if handles[x]!=parent_handle:\n",
    "                driver.switch_to.window(handles[x])\n",
    "                driver.close()\n",
    "                break\n",
    "                \n",
    "        driver.switch_to.window(parent_handle)\n",
    "    #ele_5 = driver.find_element_by_class_name('load__more')\n",
    "    #ele_5.click()\n",
    "    #time.sleep(40)\n"
   ]
  },
  {
   "cell_type": "code",
   "execution_count": 4,
   "id": "f6af15f9",
   "metadata": {},
   "outputs": [],
   "source": [
    "html = driver.page_source\n",
    "foss = BS(html,'html.parser')"
   ]
  },
  {
   "cell_type": "code",
   "execution_count": null,
   "id": "afe6258e",
   "metadata": {},
   "outputs": [
    {
     "name": "stdout",
     "output_type": "stream",
     "text": [
      "NIRS™ DS3 Feed\n",
      "BeerFoss™ FT Go\n",
      "MilkoScan™ FT3\n",
      "MycoFoss™\n",
      "NIRS™ DS2500 L\n",
      "NIRS™ DS3 for oil processing\n",
      "OenoFoss™ Go\n",
      "ProFoss™ 2 Butter\n",
      "ProFoss™ 2 Soybean meal \n",
      "WineScan™ SO2\n",
      "Infratec™ NOVA\n",
      "Infratec™\n",
      "ProFoss™ 2 for flour and whole grain analyser\n",
      "ProFoss™ 2 for oilseed meals\n",
      "NIRS™ DS3 Flour Analyser\n",
      "NIRS™ DA1650 Oilseed Crush Analyser\n",
      "Infratec™ Sofia\n",
      "GAC® 2500-C\n",
      "Olivia™\n",
      "Alphatec™ F№\n",
      "EyeFoss™\n",
      "FoodScan™ 2 Dairy\n",
      "FoodScan™ 2 Meat Analyser\n",
      "BacSomatic™\n",
      "CombiFoss™ 7 \n",
      "Fossomatic™ 7 DC\n",
      "MeatMaster™ II\n",
      "MeatMaster™ II AG\n",
      "MeatMaster™ II C\n",
      "NIRS™ DA1650 Feed Analyser\n",
      "NIRS™ DS3 Dairy Analyser\n",
      "FoodScan™ 2 Fish Analyser\n",
      "MeatScan™\n",
      "MilkoScan™ 7 RM \n",
      "MilkoScan™ FT1\n",
      "MilkoScan™ FT2\n",
      "MilkoScan™ Mars\n",
      "NIRS™ DS3 meat by-product analyser\n",
      "ProFoss™ 2 Dairy\n",
      "ProFoss™ 2 for feed\n",
      "ProFoss™ 2 for feed\n",
      "FossAssure™ and FossAssure™ Pro\n",
      "FossCalibrator™ and FossCalibrator™ Pro\n",
      "FossManager™ \n",
      "Fossomatic™ 7 \n",
      "ProFoss™ 2 Poultry  MDM\n",
      "BactoScan™ FC+\n",
      "NIRS™ DA1650 Bone Meal Analyser\n",
      "DairyScan™\n",
      "Dumatec™ 8000 \n",
      "NIRS™ DS3 food and feed analyser\n",
      "Kjeltec™ 8100 \n",
      "Kjeltec™ 8200\n",
      "Kjeltec™ 8400\n",
      "Digestor™  2508 and 2520\n",
      "Hydrotec™ 8000\n",
      "Soxtec™ 8000\n",
      "Fibertec™ 8000\n",
      "Fibertec™ 1023\n",
      "KT 200 Kjeltec™\n",
      "ST 243 Soxtec™ \n",
      "ST 255 Soxtec™\n",
      "FT 122 Fibertec™\n",
      "DT 208 & 220 Digestor™ \n",
      "CT 293 Cyclotec™\n",
      "CM 290 Cemotec™\n"
     ]
    }
   ],
   "source": [
    "for div in foss.find_all('div',{'class':'solution__item'}):\n",
    "    print(div.h4.text)\n",
    "    csvFile = open('C:\\\\Users\\\\Admin\\\\Desktop\\\\foss_machine\\\\'+str(div.h4.text)+'.csv','w+',newline='',encoding='utf-8')\n",
    "    csvwriter = csv.writer(csvFile)\n",
    "    fields = ['Feature','value']\n",
    "    csvwriter.writerow(fields)\n",
    "    csvwriter.writerow(['machine name',str(div.h4.text)])\n",
    "    for tr in div.find_all('tr'):\n",
    "        if tr.b is None:\n",
    "            csvwriter.writerow(['machine description',str(div.tr.td.string)])\n",
    "        else:\n",
    "            csvwriter.writerow([tr.b.text,tr.p.text])\n",
    "            \n",
    "    html_2 = urlopen('https://www.fossanalytics.com'+str(div.find('a').attrs['href']))\n",
    "    hs_2 = BS(html_2.read(),'html.parser')\n",
    "    for sec in hs_2.find_all('section',{'id':re.compile('^[A-Za-z0-9]')}):\n",
    "        if (' ').join(sec.attrs['class']) == \"panel header\":\n",
    "            for k in sec.find_all(['h2']):\n",
    "                csvwriter.writerow(['description_2',str(k.text)])\n",
    "        if (' ').join(sec.attrs['class']) == 'panel table':\n",
    "            for j in sec.find_all(['tr']):\n",
    "                csvwriter.writerow([str(i.text).strip() for i in j.find_all(['td'])])\n",
    "        if (' ').join(sec.attrs['class']) == 'panel product-feature-column-section':\n",
    "            t = sec.text.split(\"\\n\")\n",
    "            while(''in t):\n",
    "                t.remove('')\n",
    "            for i in range(0,len(t),2):\n",
    "                csvwriter.writerow(t[i:i+2])\n",
    "                \n",
    "    csvFile.close()\n",
    "    \n",
    "    \"\"\"for tr in div.find_all('tr'):\n",
    "        if tr.b is not None:\n",
    "            print(tr.b.text) # device col\n",
    "            print(tr.p.text) # above device col answer\n",
    "        else:\n",
    "            print(tr.td.string) # device description\n",
    "    break\"\"\"\n",
    "            \n",
    "    #print(div.h4.parent)\n",
    "    \"\"\"html_2 = urlopen('https://www.fossanalytics.com'+str(div.find('a').attrs['href']))\n",
    "    hs_2 = BS(html_2.read(),'html.parser')\n",
    "\n",
    "    for sec in hs_2.find_all('section',{'id':re.compile('^[A-Za-z0-9]')}):\n",
    "        if (' ').join(sec.attrs['class']) == \"panel header\":\n",
    "            for _ in sec.find_all(['h1','h2']):\n",
    "                print(_.text)\n",
    "        if (' ').join(sec.attrs['class']) == 'panel table':\n",
    "            for child in sec.tbody.children:\n",
    "                print((\" \").join(child.text.split()))\n",
    "        if (' ').join(sec.attrs['class']) == 'panel product-feature-column-section':\n",
    "            t = sec.text.split(\"\\n\")\n",
    "            while(''in t):\n",
    "                t.remove('')\n",
    "            print(\"\\n\".join(t))\"\"\"\n"
   ]
  },
  {
   "cell_type": "code",
   "execution_count": 53,
   "id": "f6826b16",
   "metadata": {},
   "outputs": [
    {
     "name": "stdout",
     "output_type": "stream",
     "text": [
      "['description_2', 'With OenoFoss™ Go you can perform rapid analysis of key quality parameters, allowing you to think and act on your feet to improve your business. ']\n",
      "['Value', 'This ‘out of the box’ wine analyser allows you to rapidly test 8 key parameters in wine and grape must with results in less than three minutes.  ']\n",
      "['Sample Type', 'Finished wine and grape must ']\n",
      "['Parameters', 'Ethanol, glucose/fructose, total soluble solids (Brix), malic acid, total acidity pH 7.0, total acidity pH 8.2, volatile acidity and yeast assimilable nitrogen.']\n",
      "['Parameters', 'Unit', 'Must', 'Finished wine', 'Comments']\n",
      "['Ethanol', '% Vol.', '-', '8-16', '']\n",
      "['Glucose/fructose', 'g/l', '-', '0-25', '']\n",
      "['Total soluble solids (Brix)', 'g/100g', '12-27', '-', 'Total Soluble Solids are based on refraction index in °Brix expression.']\n",
      "['Malic Acid', 'g/l', '1-8', '0-7', '']\n",
      "['Total Acidity pH 7.0', 'g/l', '3-18', '3-7.6', 'Expressed as tartaric acid']\n",
      "['Volatile Acidity', 'g/l', '-', '0-1.0', 'Expressed as acetic acid']\n",
      "['Yeast Assimilable Nitrogen', 'None', 'LOW – MEDIUM - HIGH', '-', 'Low = < 200 mg/l Medium = between 200 mg/l and 300 mg/l High = > 300 mg/l All output is indicative']\n",
      "['Technical Specification', '']\n",
      "['Analysis time', 'Less than 3 min']\n",
      "['Sample temperature', '15-25 °C\\xa0(Adapt sample temperature within the range of 15 -25 °C)']\n",
      "['Noise level', '< 70 db (A)']\n",
      "['Sampling', '']\n",
      "['Samples volume', '5 ml']\n",
      "['Sample preparation', 'Clarificaton and degassing required. Particle size less than 10 μm.\\n            Clarification by filtration or centrifugation. Degassing by vivid shaking in closed container.']\n",
      "['Maintenance', '']\n",
      "['Cleaning', 'Automatic and programmable']\n",
      "['Test', 'Automatic, integrated. Self test option']\n",
      "['Options', '']\n",
      "['Calibrations', 'FOSS provides ready to use calibrations']\n",
      "['Installation requirements', '']\n",
      "['Power supply', '(100 to 240V) V - 50/60 Hz']\n",
      "['Power consumption', '12V, 5A, - 60W']\n",
      "['Ambient temperature', '15-25 °C']\n",
      "['Ambient humidity', '< 80 % RH']\n",
      "['Ambient CO2 concentration', '< 2000 ppm']\n",
      "['Weight', '11 kg (Including Zero/Clean liquids)']\n",
      "['Dimensions (h x w x d)', '285 x 345 x 280 mm']\n",
      "['Environment', 'For best performance place the instrument on a stable surface away from excessive and continuous vibrations.']\n"
     ]
    }
   ],
   "source": [
    "for sec in hs_2.find_all('section',{'id':re.compile('^[A-Za-z0-9]')}):\n",
    "    if (' ').join(sec.attrs['class']) == \"panel header\":\n",
    "        for k in sec.find_all(['h2']):\n",
    "            #csvwriter.writerow(['description_2',str(k.text)])\n",
    "            print(['description_2',str(k.text)])\n",
    "    if (' ').join(sec.attrs['class']) == 'panel table':\n",
    "        for j in sec.find_all(['tr']):\n",
    "            print([str(i.text).strip() for i in j.find_all(['td'])])\n",
    "    if (' ').join(sec.attrs['class']) == 'panel product-feature-column-section':\n",
    "        t = sec.text.split(\"\\n\")\n",
    "        while(''in t):\n",
    "            t.remove('')\n",
    "        for i in range(0,len(t),2):\n",
    "            print(t[i:i+2])"
   ]
  },
  {
   "cell_type": "code",
   "execution_count": 54,
   "id": "91d703e9",
   "metadata": {},
   "outputs": [],
   "source": [
    "csvFile.close()"
   ]
  },
  {
   "cell_type": "code",
   "execution_count": 9,
   "id": "3ac72444",
   "metadata": {},
   "outputs": [],
   "source": [
    "html_2 = urlopen('https://www.fossanalytics.com'+str(div.find('a').attrs['href']))\n",
    "hs_2 = BS(html_2.read(),'html.parser')"
   ]
  },
  {
   "cell_type": "code",
   "execution_count": 23,
   "id": "6b69dd0b",
   "metadata": {},
   "outputs": [
    {
     "name": "stdout",
     "output_type": "stream",
     "text": [
      "NIRS™ DS3 Feed\n",
      "Advanced feed analysis for everyone. The innovative NIRS™ DS3 combines unique analytical performance with the latest software and networking services, making reliable test data for decision-making more available than ever. It’s a complete solution that supports all aspects of your analytical operations from calibration development to measurement and data integration.\n"
     ]
    },
    {
     "data": {
      "text/plain": [
       "'if (\\' \\').join(sec.attrs[\\'class\\']) == \\'panel table\\':\\nfor child in sec.tbody.children:\\nprint((\" \").join(child.text.split()))\\nif (\\' \\').join(sec.attrs[\\'class\\']) == \\'panel product-feature-column-section\\':\\nt = sec.text.split(\"\\n\")\\nwhile(\\'\\'in t):\\nt.remove(\\'\\')\\nprint(\"\\n\".join(t))'"
      ]
     },
     "execution_count": 23,
     "metadata": {},
     "output_type": "execute_result"
    }
   ],
   "source": [
    "csvFile = open('C:\\\\Users\\\\Admin\\\\Desktop\\\\foss_machine\\\\gg.csv','w+',newline='')\n",
    "csvwriter = csv.writer(csvFile)\n",
    "for sec in hs_2.find_all('section',{'id':re.compile('^[A-Za-z0-9]')}):\n",
    "    if (' ').join(sec.attrs['class']) == \"panel header\":\n",
    "        for _ in sec.find_all(['h1','h2']):\n",
    "            print(_.text)\n",
    "            csvwriter.writerow(['gg1','gg2'])\n",
    "            csvwriter.writerow(['description_2',str(k.text)])\n",
    "            #print(_.text)\n",
    "    if (' ').join(sec.attrs['class']) == 'panel table':\n",
    "        for j in sec.find_all(['tr']):\n",
    "            csvwriter.writerow([str(i.text).strip() for i in j.find_all(['td'])])\n",
    "    if (' ').join(sec.attrs['class']) == 'panel product-feature-column-section':\n",
    "        t = sec.text.split(\"\\n\")\n",
    "        while(''in t):\n",
    "            t.remove('')\n",
    "        for i in range(0,len(t),2):\n",
    "            csvwriter.writerow(t[i:i+2])\n",
    "        \n",
    "csvFile.close()\n",
    "\"\"\"if (' ').join(sec.attrs['class']) == 'panel table':\n",
    "for child in sec.tbody.children:\n",
    "print((\" \").join(child.text.split()))\n",
    "if (' ').join(sec.attrs['class']) == 'panel product-feature-column-section':\n",
    "t = sec.text.split(\"\\n\")\n",
    "while(''in t):\n",
    "t.remove('')\n",
    "print(\"\\n\".join(t))\"\"\""
   ]
  },
  {
   "cell_type": "code",
   "execution_count": 45,
   "id": "53d15a9c",
   "metadata": {},
   "outputs": [
    {
     "name": "stdout",
     "output_type": "stream",
     "text": [
      "['Feature', 'Specification']\n",
      "['Dimensions (w x d x h)', '375 x 490 x 300 mm']\n",
      "['Weight', '27 kg']\n",
      "['Degree of protection', 'IP 65']\n",
      "['Measurement mode', 'Reflectance or transflectance (for liquids)']\n",
      "['Wavelength range', '400 - 2500 nm']\n",
      "['Detector', 'Silicon (400 - 1100 nm), Lead Sulphide, PbS (1100 - 2500 nm)']\n",
      "['Optical bandwidth', '8.75 ± 0.1 nm']\n",
      "['Data resolution', '0.5 nm']\n",
      "['Number of data points', '4200']\n",
      "['Number of subsamples', 'Default: 7 for small cup; 8 for large cup']\n",
      "['Self test', '12 minutes (variable)']\n",
      "['Analysis time', '<1 minute for 32 scans (8 subsamples, 4 scans per subsample)']\n",
      "['Network connections', 'FossManager™']\n",
      "['']\n",
      "['Installation requirements', '']\n",
      "['Voltage supply', '100-240 V AC*, frequency 50-60 Hz, Class 1, protective earth']\n",
      "['Ambient temperature', '5 - 40°C']\n",
      "['Storage temperature', '-20 to 70°C']\n",
      "['Ambient humidity', '< 93% RH']\n",
      "['Mechanical environment', 'Stationary during use']\n",
      "['EMC environment', 'Laboratory use, industry requirements']\n",
      "['*Mains supply voltage fluctuations not exceeding ±10% of the rated voltage.']\n",
      "['', '']\n",
      "['Optional services']\n",
      "['Digital Services', 'FossAssure™']\n",
      "['Care Solutions', 'FossCare™, SmartCare™']\n"
     ]
    }
   ],
   "source": [
    "for sec in hs_2.find_all('section',{'id':re.compile('^[A-Za-z0-9]')}):\n",
    "    if (' ').join(sec.attrs['class']) == 'panel table':\n",
    "        #for child in sec.tbody.children:\n",
    "            #print((\" \").join(child.text.split()))\n",
    "            #print(child.text)\n",
    "            #print(child)\n",
    "        #for k in sec.tbody.find_all(['tr']):\n",
    "            #print(tr)\n",
    "        for j in sec.find_all(['tr']):\n",
    "            print([str(i.text).strip() for i in j.find_all(['td'])])"
   ]
  },
  {
   "cell_type": "code",
   "execution_count": 50,
   "id": "75d68792",
   "metadata": {},
   "outputs": [
    {
     "name": "stdout",
     "output_type": "stream",
     "text": [
      "['Value', 'Save time and money in your evaluation of raw materials and forages. Produce closer to specification and ensure consistent final product by controlling quality throughout your manufacturing process. ']\n",
      "['Sample type', 'Unground or liquid material including compound feed, grains/cereals, vegetal protein meals, vegetal by-products, animal by-product/rendering, forages, pet food and more.']\n",
      "['Parameters', 'Protein, moisture, fat, ash, fibre, starch and colour.\\r']\n"
     ]
    }
   ],
   "source": [
    "for sec in hs_2.find_all('section',{'id':re.compile('^[A-Za-z0-9]')}):\n",
    "    if (' ').join(sec.attrs['class']) == 'panel product-feature-column-section':\n",
    "        t = sec.text.split(\"\\n\")\n",
    "        while(''in t):\n",
    "            t.remove('')\n",
    "        for i in range(0,len(t),2):\n",
    "            print(t[i:i+2])\n",
    "        #print(\"\\n\".join(t))"
   ]
  },
  {
   "cell_type": "code",
   "execution_count": null,
   "id": "709dde90",
   "metadata": {},
   "outputs": [],
   "source": []
  }
 ],
 "metadata": {
  "kernelspec": {
   "display_name": "Python 3 (ipykernel)",
   "language": "python",
   "name": "python3"
  },
  "language_info": {
   "codemirror_mode": {
    "name": "ipython",
    "version": 3
   },
   "file_extension": ".py",
   "mimetype": "text/x-python",
   "name": "python",
   "nbconvert_exporter": "python",
   "pygments_lexer": "ipython3",
   "version": "3.9.7"
  }
 },
 "nbformat": 4,
 "nbformat_minor": 5
}
